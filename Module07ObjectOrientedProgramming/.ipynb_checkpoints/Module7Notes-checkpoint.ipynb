{
 "cells": [
  {
   "cell_type": "markdown",
   "metadata": {},
   "source": [
    "# Objects and classes"
   ]
  },
  {
   "cell_type": "code",
   "execution_count": 1,
   "metadata": {},
   "outputs": [
    {
     "name": "stdout",
     "output_type": "stream",
     "text": [
      "Hi, I am an A\n"
     ]
    }
   ],
   "source": [
    "#B\n",
    "class B:\n",
    "    \n",
    "    def __init__():#no self\n",
    "        name = \"B\"\n",
    "        \n",
    "    def say_hi(self):\n",
    "        print(\"Hi, I am a B\")\n",
    "        \n",
    "class A(B):\n",
    "    \n",
    "    def __init__(self):\n",
    "        B.__init__()#no self\n",
    "    def say_hi(self):\n",
    "        print(\"Hi, I am an A\")\n",
    "\n",
    "Aobject = A()\n",
    "Aobject.say_hi()"
   ]
  },
  {
   "cell_type": "code",
   "execution_count": 2,
   "metadata": {},
   "outputs": [
    {
     "name": "stdout",
     "output_type": "stream",
     "text": [
      "Hi, I am an A\n"
     ]
    }
   ],
   "source": [
    "#B + Self\n",
    "class B:\n",
    "    \n",
    "    def __init__(self):#standard\n",
    "        name = \"B\"\n",
    "        \n",
    "    def say_hi(self):\n",
    "        print(\"Hi, I am a B\")\n",
    "        \n",
    "class A(B):\n",
    "    \n",
    "    def __init__(self):\n",
    "        B.__init__(self)#standard\n",
    "    def say_hi(self):\n",
    "        print(\"Hi, I am an A\")\n",
    "\n",
    "Aobject = A()\n",
    "Aobject.say_hi()"
   ]
  },
  {
   "cell_type": "code",
   "execution_count": 3,
   "metadata": {},
   "outputs": [
    {
     "name": "stdout",
     "output_type": "stream",
     "text": [
      "Hi, I am an A\n"
     ]
    }
   ],
   "source": [
    "#Super\n",
    "class B:\n",
    "    \n",
    "    def __init__(self):#standard\n",
    "        name = \"B\"\n",
    "        \n",
    "    def say_hi(self):\n",
    "        print(\"Hi, I am a B\")\n",
    "        \n",
    "class A(B):\n",
    "    \n",
    "    def __init__(self):\n",
    "        super().__init__()#standard\n",
    "    def say_hi(self):\n",
    "        print(\"Hi, I am an A\")\n",
    "\n",
    "Aobject = A()\n",
    "Aobject.say_hi()\n",
    "\n"
   ]
  },
  {
   "cell_type": "code",
   "execution_count": 7,
   "metadata": {},
   "outputs": [
    {
     "ename": "TypeError",
     "evalue": "__init__() takes 1 positional argument but 2 were given",
     "output_type": "error",
     "traceback": [
      "\u001b[1;31m---------------------------------------------------------------------------\u001b[0m",
      "\u001b[1;31mTypeError\u001b[0m                                 Traceback (most recent call last)",
      "\u001b[1;32m<ipython-input-7-0c6491c53d30>\u001b[0m in \u001b[0;36m<module>\u001b[1;34m\u001b[0m\n\u001b[0;32m     15\u001b[0m         \u001b[0mprint\u001b[0m\u001b[1;33m(\u001b[0m\u001b[1;34m\"Hi, I am an A\"\u001b[0m\u001b[1;33m)\u001b[0m\u001b[1;33m\u001b[0m\u001b[1;33m\u001b[0m\u001b[0m\n\u001b[0;32m     16\u001b[0m \u001b[1;33m\u001b[0m\u001b[0m\n\u001b[1;32m---> 17\u001b[1;33m \u001b[0mAobject\u001b[0m \u001b[1;33m=\u001b[0m \u001b[0mA\u001b[0m\u001b[1;33m(\u001b[0m\u001b[1;33m)\u001b[0m\u001b[1;33m\u001b[0m\u001b[1;33m\u001b[0m\u001b[0m\n\u001b[0m\u001b[0;32m     18\u001b[0m \u001b[0mAobject\u001b[0m\u001b[1;33m.\u001b[0m\u001b[0msay_hi\u001b[0m\u001b[1;33m(\u001b[0m\u001b[1;33m)\u001b[0m\u001b[1;33m\u001b[0m\u001b[1;33m\u001b[0m\u001b[0m\n\u001b[0;32m     19\u001b[0m \u001b[1;31m#print(A.name)\u001b[0m\u001b[1;33m\u001b[0m\u001b[1;33m\u001b[0m\u001b[1;33m\u001b[0m\u001b[0m\n",
      "\u001b[1;32m<ipython-input-7-0c6491c53d30>\u001b[0m in \u001b[0;36m__init__\u001b[1;34m(self)\u001b[0m\n\u001b[0;32m     11\u001b[0m \u001b[1;33m\u001b[0m\u001b[0m\n\u001b[0;32m     12\u001b[0m     \u001b[1;32mdef\u001b[0m \u001b[0m__init__\u001b[0m\u001b[1;33m(\u001b[0m\u001b[0mself\u001b[0m\u001b[1;33m)\u001b[0m\u001b[1;33m:\u001b[0m\u001b[1;33m\u001b[0m\u001b[1;33m\u001b[0m\u001b[0m\n\u001b[1;32m---> 13\u001b[1;33m         \u001b[0msuper\u001b[0m\u001b[1;33m(\u001b[0m\u001b[1;33m)\u001b[0m\u001b[1;33m.\u001b[0m\u001b[0m__init__\u001b[0m\u001b[1;33m(\u001b[0m\u001b[0mself\u001b[0m\u001b[1;33m)\u001b[0m\u001b[1;31m#extra parameter\u001b[0m\u001b[1;33m\u001b[0m\u001b[1;33m\u001b[0m\u001b[0m\n\u001b[0m\u001b[0;32m     14\u001b[0m     \u001b[1;32mdef\u001b[0m \u001b[0msay_hi\u001b[0m\u001b[1;33m(\u001b[0m\u001b[0mself\u001b[0m\u001b[1;33m)\u001b[0m\u001b[1;33m:\u001b[0m\u001b[1;33m\u001b[0m\u001b[1;33m\u001b[0m\u001b[0m\n\u001b[0;32m     15\u001b[0m         \u001b[0mprint\u001b[0m\u001b[1;33m(\u001b[0m\u001b[1;34m\"Hi, I am an A\"\u001b[0m\u001b[1;33m)\u001b[0m\u001b[1;33m\u001b[0m\u001b[1;33m\u001b[0m\u001b[0m\n",
      "\u001b[1;31mTypeError\u001b[0m: __init__() takes 1 positional argument but 2 were given"
     ]
    }
   ],
   "source": [
    "#Super + self\n",
    "class B:\n",
    "    \n",
    "    def __init__(self,name):#extra parameter\n",
    "        self.name = \"B\"\n",
    "        \n",
    "    def say_hi(self):\n",
    "        print(\"Hi, I am a B\")\n",
    "        \n",
    "class A(B):\n",
    "    \n",
    "    def __init__(self):\n",
    "        super().__init__(self)#extra parameter\n",
    "    def say_hi(self):\n",
    "        print(\"Hi, I am an A\")\n",
    "\n",
    "Aobject = A()\n",
    "Aobject.say_hi()\n",
    "#print(A.name)"
   ]
  },
  {
   "cell_type": "code",
   "execution_count": null,
   "metadata": {},
   "outputs": [],
   "source": []
  }
 ],
 "metadata": {
  "kernelspec": {
   "display_name": "Python 3",
   "language": "python",
   "name": "python3"
  },
  "language_info": {
   "codemirror_mode": {
    "name": "ipython",
    "version": 3
   },
   "file_extension": ".py",
   "mimetype": "text/x-python",
   "name": "python",
   "nbconvert_exporter": "python",
   "pygments_lexer": "ipython3",
   "version": "3.8.3"
  }
 },
 "nbformat": 4,
 "nbformat_minor": 4
}
