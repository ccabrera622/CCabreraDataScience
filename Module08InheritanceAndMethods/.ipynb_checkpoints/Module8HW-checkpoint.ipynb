{
 "cells": [
  {
   "cell_type": "code",
   "execution_count": 15,
   "metadata": {},
   "outputs": [
    {
     "name": "stdout",
     "output_type": "stream",
     "text": [
      "Enter First Name: Chris\n",
      "Enter Last Name: C\n",
      "Enter ID Number: 101\n",
      "Enter a list of space seperated integers: 85 65 95\n"
     ]
    }
   ],
   "source": [
    "class Person(object):\n",
    "    def __init__(self):\n",
    "        self.firstName = input(\"Enter First Name: \")\n",
    "        self.lastName = input(\"Enter Last Name: \")\n",
    "    \n",
    "    \n",
    "    \n",
    "class Student(Person):\n",
    "    \n",
    "    def __init__(self):\n",
    "        super().__init__()\n",
    "        self.idNum = int(input(\"Enter ID Number: \"))\n",
    "        self.scores = list(map(int,input(\"Enter a list of space seperated integers: \").split(\" \")))\n",
    "    def calculate(self):\n",
    "        sum = 0\n",
    "        for x in self.scores:\n",
    "            sum += x\n",
    "        avg = sum//len(self.scores)\n",
    "        letter = ''\n",
    "        if(100 >= avg >= 90):\n",
    "            letter = 'A'\n",
    "        elif(89 >= avg >= 80):\n",
    "            letter = 'B'\n",
    "        elif(79 >= avg >= 70):\n",
    "            letter = 'C'\n",
    "        elif(69 >= avg >= 60):\n",
    "            letter = 'D'\n",
    "        else:\n",
    "            letter = 'F'\n",
    "        print(\"Hello \" + self.firstName + \" \" + self.lastName + \" your grade average is: \" + letter)\n",
    "s = Student()\n",
    "s.calculate()\n"
   ]
  }
 ],
 "metadata": {
  "kernelspec": {
   "display_name": "Python 3",
   "language": "python",
   "name": "python3"
  },
  "language_info": {
   "codemirror_mode": {
    "name": "ipython",
    "version": 3
   },
   "file_extension": ".py",
   "mimetype": "text/x-python",
   "name": "python",
   "nbconvert_exporter": "python",
   "pygments_lexer": "ipython3",
   "version": "3.8.3"
  }
 },
 "nbformat": 4,
 "nbformat_minor": 4
}
