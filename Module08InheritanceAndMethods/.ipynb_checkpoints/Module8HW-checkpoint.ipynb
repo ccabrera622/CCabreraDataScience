{
 "cells": [
  {
   "cell_type": "code",
   "execution_count": 10,
   "metadata": {},
   "outputs": [
    {
     "name": "stdout",
     "output_type": "stream",
     "text": [
      "Enter a list of space seperated integers: 90 89 88 76 88\n",
      "Hello Chris C your grade average is: B\n"
     ]
    }
   ],
   "source": [
    "class Person(object):\n",
    "    def __init__(self,fname,lname):\n",
    "        self.firstName = fname\n",
    "        self.lastName = lname\n",
    "    \n",
    "    \n",
    "    \n",
    "class Student(Person):\n",
    "    \n",
    "    def __init__(self,fname,lname,idNum):\n",
    "        super().__init__(fname,lname)\n",
    "        self.idNum = idNum\n",
    "        self.scores = []\n",
    "    def calculate(self):\n",
    "        line = input(\"Enter a list of space seperated integers: \")\n",
    "        scores = list(map(int,line.split(\" \")))\n",
    "        sum = 0\n",
    "        for x in scores:\n",
    "            sum += x\n",
    "        avg = sum//len(scores)\n",
    "        if(100 >= avg >= 90):\n",
    "            return 'A'\n",
    "        elif(89 >= avg >= 80):\n",
    "            return 'B'\n",
    "        elif(79 >= avg >= 70):\n",
    "            return 'C'\n",
    "        elif(69 >= avg >= 60):\n",
    "            return 'D'\n",
    "        else:\n",
    "            return 'F'\n",
    "s = Student('Chris', 'C', 101)\n",
    "print(\"Hello \" + s.firstName + \" \" + s.lastName + \" your grade average is: \" + s.calculate())\n",
    "        \n",
    "        "
   ]
  },
  {
   "cell_type": "code",
   "execution_count": 15,
   "metadata": {},
   "outputs": [
    {
     "name": "stdout",
     "output_type": "stream",
     "text": [
      "Enter First Name: Chris\n",
      "Enter Last Name: C\n",
      "Enter ID Number: 101\n",
      "Enter a list of space seperated integers: 85 65 95\n"
     ]
    }
   ],
   "source": [
    "class Person(object):\n",
    "    def __init__(self):\n",
    "        self.firstName = input(\"Enter First Name: \")\n",
    "        self.lastName = input(\"Enter Last Name: \")\n",
    "    \n",
    "    \n",
    "    \n",
    "class Student(Person):\n",
    "    \n",
    "    def __init__(self):\n",
    "        super().__init__()\n",
    "        self.idNum = int(input(\"Enter ID Number: \"))\n",
    "        self.scores = list(map(int,input(\"Enter a list of space seperated integers: \").split(\" \")))\n",
    "    def calculate(self):\n",
    "        sum = 0\n",
    "        for x in self.scores:\n",
    "            sum += x\n",
    "        avg = sum//len(self.scores)\n",
    "        letter = ''\n",
    "        if(100 >= avg >= 90):\n",
    "            letter = 'A'\n",
    "        elif(89 >= avg >= 80):\n",
    "            letter = 'B'\n",
    "        elif(79 >= avg >= 70):\n",
    "            letter = 'C'\n",
    "        elif(69 >= avg >= 60):\n",
    "            letter = 'D'\n",
    "        else:\n",
    "            letter = 'F'\n",
    "        print(\"Hello \" + self.firstName + \" \" + self.lastName + \" your grade average is: \" + letter)\n",
    "s = Student()\n"
   ]
  },
  {
   "cell_type": "code",
   "execution_count": 16,
   "metadata": {},
   "outputs": [
    {
     "name": "stdout",
     "output_type": "stream",
     "text": [
      "Hello Chris C your grade average is: B\n"
     ]
    }
   ],
   "source": [
    "s.calculate()"
   ]
  },
  {
   "cell_type": "code",
   "execution_count": null,
   "metadata": {},
   "outputs": [],
   "source": []
  }
 ],
 "metadata": {
  "kernelspec": {
   "display_name": "Python 3",
   "language": "python",
   "name": "python3"
  },
  "language_info": {
   "codemirror_mode": {
    "name": "ipython",
    "version": 3
   },
   "file_extension": ".py",
   "mimetype": "text/x-python",
   "name": "python",
   "nbconvert_exporter": "python",
   "pygments_lexer": "ipython3",
   "version": "3.8.3"
  }
 },
 "nbformat": 4,
 "nbformat_minor": 4
}
