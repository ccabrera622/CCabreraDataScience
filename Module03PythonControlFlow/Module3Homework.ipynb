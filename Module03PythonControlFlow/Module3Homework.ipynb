{
 "cells": [
  {
   "cell_type": "markdown",
   "metadata": {},
   "source": [
    "## Exercise 1\n",
    "Guess a number between 1 to 9 given by the user"
   ]
  },
  {
   "cell_type": "code",
   "execution_count": 9,
   "metadata": {},
   "outputs": [
    {
     "name": "stdout",
     "output_type": "stream",
     "text": [
      "Is your number 1 enter y or nn\n",
      "Is your number 2 enter y or nn\n",
      "Is your number 3 enter y or nn\n",
      "Is your number 4 enter y or nn\n",
      "Is your number 5 enter y or nn\n",
      "Is your number 6 enter y or nn\n",
      "Is your number 7 enter y or nn\n",
      "Is your number 8 enter y or nn\n",
      "Is your number 9 enter y or nn\n",
      "Cheater\n"
     ]
    }
   ],
   "source": [
    "guess =1\n",
    "while True:\n",
    "    ans = input(\"Is your number \" + str(guess) + \" enter y or n\")\n",
    "    if(ans == 'y'):\n",
    "        print(\"Hooray\")\n",
    "        break\n",
    "    if(guess == 9):\n",
    "        print(\"Cheater\")\n",
    "        break\n",
    "    guess += 1\n",
    "    \n",
    "\n",
    "    \n",
    "    "
   ]
  },
  {
   "cell_type": "markdown",
   "metadata": {},
   "source": [
    "\n",
    "\n",
    "## Exercise 2\n",
    "Check the validity of password input by the user.\n",
    "\n",
    "Validation:\n",
    "\n",
    "At least 1 letter between [a-z] and 1 letter between [A-Z]\n",
    "At least 1 number between [0-9]\n",
    "At least 1 character from [$#@]\n",
    "Minimum length 6 characters\n",
    "Maximum length 16 characters"
   ]
  },
  {
   "cell_type": "code",
   "execution_count": 16,
   "metadata": {},
   "outputs": [
    {
     "name": "stdout",
     "output_type": "stream",
     "text": [
      "Enter a PasswordaA#2asjk\n",
      "Valid password\n"
     ]
    }
   ],
   "source": [
    "lower = \"abcdefghijklmnopqrstuvwxyz\"\n",
    "upper = \"ABCDEFGHIJKLMNOPQRSTUVWXYZ\"\n",
    "nums = \"0123456789\"\n",
    "specials = \"$#@\"\n",
    "lBool,uBool,nBool,sBool,valid = False,False,False,False,False\n",
    "pw = input(\"Enter a Password\")\n",
    "\n",
    "if len(pw) > 16 or len(pw)<6:\n",
    "    valid = False\n",
    "else:    \n",
    "    for x in pw:\n",
    "        if(x in lower):\n",
    "            lBool=True;\n",
    "        if(x in upper):\n",
    "            uBool=True;\n",
    "        if(x in nums):\n",
    "            nBool=True;\n",
    "        if(x in specials):\n",
    "            sBool=True;\n",
    "        if(lBool and uBool and nBool and sBool):\n",
    "            valid = True\n",
    "            break\n",
    "\n",
    "if valid:\n",
    "    print(\"Valid password\")\n",
    "else:\n",
    "    print(\"Invalid password\")"
   ]
  },
  {
   "cell_type": "markdown",
   "metadata": {},
   "source": [
    "## Exercise 3\n",
    "Get input of the age of 3 people by user and determine oldest and youngest among them"
   ]
  },
  {
   "cell_type": "code",
   "execution_count": 1,
   "metadata": {},
   "outputs": [
    {
     "name": "stdout",
     "output_type": "stream",
     "text": [
      "Enter name of person one: chris\n",
      "Enter age of person one: 1\n",
      "Enter name of person two: mel\n",
      "Enter age of person two: 10\n",
      "Enter name of person three: jon\n",
      "Enter age of person three: 15\n",
      "The oldest person is jon with an age of 15\n",
      "The youngest person is chris with an age of 1\n"
     ]
    }
   ],
   "source": [
    "people = []\n",
    "ages = []\n",
    "people.append(input(\"Enter name of person one: \"))\n",
    "ages.append(int(input(\"Enter age of person one: \")))\n",
    "people.append(input(\"Enter name of person two: \"))\n",
    "ages.append(int(input(\"Enter age of person two: \")))\n",
    "people.append(input(\"Enter name of person three: \"))\n",
    "ages.append(int(input(\"Enter age of person three: \")))\n",
    "\n",
    "young = 0\n",
    "old = 0\n",
    "for x in range(3):\n",
    "    if(ages[x]<ages[young]):\n",
    "        young = x\n",
    "    if(ages[x]>ages[old]):\n",
    "        old = x\n",
    "\n",
    "print(\"The oldest person is\", people[old], \"with an age of\", ages[old])\n",
    "print(\"The youngest person is\", people[young], \"with an age of\", ages[young])"
   ]
  },
  {
   "cell_type": "markdown",
   "metadata": {},
   "source": [
    "## Exercise 4\n",
    "A student will not be allowed to sit in exam if his/her attendance is less than 75%.\n",
    "\n",
    "Take following input from user\n",
    "\n",
    "Number of classes held\n",
    "Number of classes attended.\n",
    "And print\n",
    "percentage of class attended\n",
    "Is student is allowed to sit in exam or not?"
   ]
  },
  {
   "cell_type": "code",
   "execution_count": 22,
   "metadata": {},
   "outputs": [
    {
     "name": "stdout",
     "output_type": "stream",
     "text": [
      "How many classes were held?   12\n",
      "How many classes were attended?   6\n",
      "50.0% of classes attended\n",
      "Student is NOT allowed to sit for exam\n"
     ]
    }
   ],
   "source": [
    "held = int(input(\"How many classes were held?   \"))\n",
    "attend = int(input(\"How many classes were attended?   \"))\n",
    "\n",
    "print(str(attend/held*100) + \"% of classes attended\")\n",
    "if(attend/held >= 0.75):\n",
    "    print(\"Student is allowed to sit for exam\")\n",
    "else:\n",
    "    print(\"Student is NOT allowed to sit for exam\")"
   ]
  },
  {
   "cell_type": "markdown",
   "metadata": {},
   "source": [
    "## Exercise 5\n",
    "\n",
    "Get an integer N from the user and perform the following actions:\n",
    "\n",
    "if N is odd, print \"weird\"\n",
    "if N is even and in the inclusive range of 2 to 5, print \"Not Weird\"\n",
    "if N is even and in the inclusive range of 6 to 20, print \"Weird\"\n",
    "if N is even and greater than 20, print \"Not Weird\""
   ]
  },
  {
   "cell_type": "code",
   "execution_count": 26,
   "metadata": {},
   "outputs": [
    {
     "name": "stdout",
     "output_type": "stream",
     "text": [
      "Give me a number: 32\n",
      "Not Weird\n"
     ]
    }
   ],
   "source": [
    "num= int(input(\"Give me a number: \"))\n",
    "\n",
    "if(num%2 == 1):\n",
    "    print(\"Weird\")\n",
    "elif(num >= 2 and num <=5):\n",
    "    print(\"Not Weird\")\n",
    "elif(num >= 6 and num <=20):\n",
    "    print(\"Weird\")\n",
    "elif(num>20):\n",
    "    print(\"Not Weird\")\n",
    "    "
   ]
  }
 ],
 "metadata": {
  "kernelspec": {
   "display_name": "Python 3",
   "language": "python",
   "name": "python3"
  },
  "language_info": {
   "codemirror_mode": {
    "name": "ipython",
    "version": 3
   },
   "file_extension": ".py",
   "mimetype": "text/x-python",
   "name": "python",
   "nbconvert_exporter": "python",
   "pygments_lexer": "ipython3",
   "version": "3.8.3"
  }
 },
 "nbformat": 4,
 "nbformat_minor": 4
}
